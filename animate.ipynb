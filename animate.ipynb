{
 "metadata": {
  "name": ""
 },
 "nbformat": 3,
 "nbformat_minor": 0,
 "worksheets": [
  {
   "cells": [
    {
     "cell_type": "code",
     "collapsed": false,
     "input": [
      "import numpy as np\n",
      "from bokeh.plotting import *\n",
      "output_notebook(url=\"http://localhost:5006/\")"
     ],
     "language": "python",
     "metadata": {},
     "outputs": [
      {
       "html": [
        "<p>Connecting notebook to document \"IPython Session at Mon Dec 16 11:56:58 2013\" at server http://localhost:5006/</p>"
       ],
       "metadata": {},
       "output_type": "display_data"
      }
     ],
     "prompt_number": 1
    },
    {
     "cell_type": "code",
     "collapsed": false,
     "input": [
      "import numpy as np\n",
      "from numpy import pi, cos, sin, linspace\n",
      "\n",
      "colors = (\"#A6CEE3\", \"#1F78B4\", \"#B2DF8A\")\n",
      "N = 36\n",
      "r_base = 8\n",
      "theta = linspace(0, 2*pi, N)\n",
      "r_x = linspace(0, 6*pi, N-1)\n",
      "rmin = r_base - cos(r_x) - 1\n",
      "rmax = r_base + sin(r_x) + 1\n",
      "\n",
      "cx = cy = np.ones_like(rmin)\n",
      "annular_wedge(cx, cy, \n",
      "        rmin, rmax, theta[:-1], theta[1:],\n",
      "        inner_radius_units=\"data\",\n",
      "        outer_radius_units=\"data\",\n",
      "        color = colors[0], \n",
      "        line_color=\"black\", tools=\"pan,zoom,resize\")\n",
      "\n",
      "\n"
     ],
     "language": "python",
     "metadata": {},
     "outputs": [
      {
       "html": [
        "<script src=\"http://localhost:5006//bokeh/embed.js\" bokeh_plottype=\"serverconn\"\n",
        "        bokeh_docid=\"68b7b6ca-5b8d-4a83-81e5-33b3a5cdab93\" bokeh_ws_conn_string=\"ws://localhost:5006/bokeh/sub\"\n",
        "        bokeh_docapikey=\"2163eda7-34ba-4bd7-85da-a95b06588a7e\" bokeh_root_url=\"http://localhost:5006/\"\n",
        "        bokeh_modelid=\"ace8110b-995a-4ec2-ac8d-62317a26f557\" bokeh_modeltype=\"Plot\" async=\"true\"></script>\n",
        "        "
       ],
       "metadata": {},
       "output_type": "display_data"
      },
      {
       "metadata": {},
       "output_type": "pyout",
       "prompt_number": 2,
       "text": [
        "<bokeh.objects.Plot at 0x29db610>"
       ]
      }
     ],
     "prompt_number": 2
    },
    {
     "cell_type": "code",
     "collapsed": false,
     "input": [
      "import time\n",
      "from bokeh.objects import Glyph\n",
      "renderer = [r for r in curplot().renderers if isinstance(r, Glyph)][0]\n",
      "ds = renderer.data_source\n",
      "while True:\n",
      "    for i in np.linspace(-2*np.pi, 2*np.pi, 50):\n",
      "        rmin = ds.data[\"inner_radius\"]\n",
      "        rmin = np.roll(rmin, 1)\n",
      "        ds.data[\"inner_radius\"] = rmin\n",
      "        rmax = ds.data[\"outer_radius\"]\n",
      "        rmax = np.roll(rmax, -1)\n",
      "        ds.data[\"outer_radius\"] = rmax\n",
      "        ds._dirty = True\n",
      "        session().store_obj(ds)\n",
      "        time.sleep(.25)"
     ],
     "language": "python",
     "metadata": {},
     "outputs": [],
     "prompt_number": "*"
    },
    {
     "cell_type": "code",
     "collapsed": false,
     "input": [],
     "language": "python",
     "metadata": {},
     "outputs": []
    }
   ],
   "metadata": {}
  }
 ]
}