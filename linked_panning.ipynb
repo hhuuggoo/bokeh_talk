{
 "metadata": {
  "name": ""
 },
 "nbformat": 3,
 "nbformat_minor": 0,
 "worksheets": [
  {
   "cells": [
    {
     "cell_type": "code",
     "collapsed": false,
     "input": [
      "from bokeh.plotting import (output_notebook, show, \n",
      "    gridplot, line, hold, scatter, figure)\n",
      "from bokeh.objects import ColumnDataSource\n",
      "import numpy as np\n",
      "output_notebook(url=\"http://localhost:5006/\")"
     ],
     "language": "python",
     "metadata": {},
     "outputs": [
      {
       "html": [
        "<p>Connecting notebook to document \"IPython Session at Mon Dec 16 10:19:38 2013\" at server http://localhost:5006/</p>"
       ],
       "metadata": {},
       "output_type": "display_data"
      }
     ],
     "prompt_number": 1
    },
    {
     "cell_type": "code",
     "collapsed": false,
     "input": [
      "N=100\n",
      "x = np.linspace(0, 4*np.pi, N)\n",
      "y = np.sin(x)\n",
      "z = np.cos(x)\n",
      "source = ColumnDataSource({'x' : x, 'y':y, 'z':z})\n",
      "hold(True)\n",
      "plot = scatter('x', 'z', source=source, width=300, height=300)\n",
      "line('x', 'z', source=source, plot=plot)\n",
      "show()\n",
      "\n",
      "\n",
      "figure()\n",
      "scatter('x', 'y', source=source, width=300, height=300, x_range=plot.x_range, \n",
      "        y_range=plot.y_range)\n",
      "line('x', 'y', source=source)\n",
      "show()"
     ],
     "language": "python",
     "metadata": {},
     "outputs": [
      {
       "html": [
        "<script src=\"http://localhost:5006//bokeh/embed.js\" bokeh_plottype=\"serverconn\"\n",
        "        bokeh_docid=\"dec01f40-eb12-49f8-ae77-0eb70a8086a0\" bokeh_ws_conn_string=\"ws://localhost:5006/bokeh/sub\"\n",
        "        bokeh_docapikey=\"4a868eb5-1782-4c9e-abda-1a67ad1d3f10\" bokeh_root_url=\"http://localhost:5006/\"\n",
        "        bokeh_modelid=\"4f10a820-526a-4272-9242-1f76f3a41b5e\" bokeh_modeltype=\"Plot\" async=\"true\"></script>\n",
        "        "
       ],
       "metadata": {},
       "output_type": "display_data"
      },
      {
       "html": [
        "<script src=\"http://localhost:5006//bokeh/embed.js\" bokeh_plottype=\"serverconn\"\n",
        "        bokeh_docid=\"dec01f40-eb12-49f8-ae77-0eb70a8086a0\" bokeh_ws_conn_string=\"ws://localhost:5006/bokeh/sub\"\n",
        "        bokeh_docapikey=\"4a868eb5-1782-4c9e-abda-1a67ad1d3f10\" bokeh_root_url=\"http://localhost:5006/\"\n",
        "        bokeh_modelid=\"1a7b24ca-7748-44d9-986a-52df56ccebce\" bokeh_modeltype=\"Plot\" async=\"true\"></script>\n",
        "        "
       ],
       "metadata": {},
       "output_type": "display_data"
      }
     ],
     "prompt_number": 2
    },
    {
     "cell_type": "code",
     "collapsed": false,
     "input": [],
     "language": "python",
     "metadata": {},
     "outputs": []
    }
   ],
   "metadata": {}
  }
 ]
}