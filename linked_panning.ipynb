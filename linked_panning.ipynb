{
 "metadata": {
  "name": ""
 },
 "nbformat": 3,
 "nbformat_minor": 0,
 "worksheets": [
  {
   "cells": [
    {
     "cell_type": "code",
     "collapsed": false,
     "input": [
      "from bokeh.plotting import (output_notebook, show, \n",
      "    gridplot, line, hold, scatter, figure)\n",
      "from bokeh.objects import ColumnDataSource\n",
      "import numpy as np\n",
      "output_notebook(url=\"http://localhost:5006/\")"
     ],
     "language": "python",
     "metadata": {},
     "outputs": [
      {
       "html": [
        "<p>Connecting notebook to document \"IPython Session at Sun Dec 15 09:37:54 2013\" at server http://localhost:5006/</p>"
       ],
       "metadata": {},
       "output_type": "display_data"
      }
     ],
     "prompt_number": 1
    },
    {
     "cell_type": "code",
     "collapsed": false,
     "input": [
      "N=100\n",
      "x = np.linspace(0, 4*np.pi, N)\n",
      "y = np.sin(x)\n",
      "z = np.cos(x)\n",
      "source = ColumnDataSource()\n",
      "source.add(data=x, name='x')\n",
      "source.add(data=y, name='y')\n",
      "source.add(data=z, name='z')\n",
      "hold(True)\n",
      "plot = scatter('x', 'z', source=source, width=300, height=300)\n",
      "line('x', 'z', source=source, plot=plot)\n",
      "show()\n",
      "\n",
      "\n",
      "figure()\n",
      "scatter('x', 'y', source=source, width=300, height=300, x_range=plot.x_range, \n",
      "        y_range=plot.y_range)\n",
      "line('x', 'y', source=source)\n",
      "show()"
     ],
     "language": "python",
     "metadata": {},
     "outputs": [
      {
       "html": [
        "<script src=\"http://localhost:5006//bokeh/embed.js\" bokeh_plottype=\"serverconn\"\n",
        "        bokeh_docid=\"b43bfe57-c18f-4206-8bbf-e6d35d3d859e\" bokeh_ws_conn_string=\"ws://localhost:5006/bokeh/sub\"\n",
        "        bokeh_docapikey=\"23ca132c-e36a-4d98-85bf-143a46e92b48\" bokeh_root_url=\"http://localhost:5006/\"\n",
        "        bokeh_modelid=\"ae2a4cb5-edb5-4dfa-918d-47ee546d1de1\" bokeh_modeltype=\"Plot\" async=\"true\"></script>\n",
        "        "
       ],
       "metadata": {},
       "output_type": "display_data"
      },
      {
       "html": [
        "<script src=\"http://localhost:5006//bokeh/embed.js\" bokeh_plottype=\"serverconn\"\n",
        "        bokeh_docid=\"b43bfe57-c18f-4206-8bbf-e6d35d3d859e\" bokeh_ws_conn_string=\"ws://localhost:5006/bokeh/sub\"\n",
        "        bokeh_docapikey=\"23ca132c-e36a-4d98-85bf-143a46e92b48\" bokeh_root_url=\"http://localhost:5006/\"\n",
        "        bokeh_modelid=\"41bef7ba-5066-4445-a5a4-09c6e3260c73\" bokeh_modeltype=\"Plot\" async=\"true\"></script>\n",
        "        "
       ],
       "metadata": {},
       "output_type": "display_data"
      }
     ],
     "prompt_number": 2
    },
    {
     "cell_type": "code",
     "collapsed": false,
     "input": [],
     "language": "python",
     "metadata": {},
     "outputs": []
    }
   ],
   "metadata": {}
  }
 ]
}