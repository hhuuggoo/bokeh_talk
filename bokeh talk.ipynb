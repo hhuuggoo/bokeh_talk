{
 "metadata": {
  "name": ""
 },
 "nbformat": 3,
 "nbformat_minor": 0,
 "worksheets": [
  {
   "cells": [
    {
     "cell_type": "markdown",
     "metadata": {},
     "source": [
      "## Continuum Analytics - 3 mins\n",
      "- CEO is the author of NumPy\n",
      "- closely affiliated with and sponsors of PyData conferences\n",
      "- Python for Data Analysis\n",
      "- Bringing domain experts closer to data.  Removing technology cruft from data anlaysis workflows\n",
      "- Open Source Products\n",
      "    - Blaze\n",
      "    - Numba\n",
      "    - Bokeh\n",
      "    - Anaconda/conda"
     ]
    },
    {
     "cell_type": "markdown",
     "metadata": {},
     "source": [
      "## Me - 1 min\n",
      "- Former PhD in statistical medical reconstruction\n",
      "- Disovered python working as a desk quant for a options trading firm\n",
      "- Tired of IT telling me what I could and could not do\n",
      "- Never looked back (bye bye matlab and java)"
     ]
    },
    {
     "cell_type": "markdown",
     "metadata": {},
     "source": [
      "## Bokeh - 6 mins\n",
      "\n",
      "# What is Bokeh?"
     ]
    },
    {
     "cell_type": "markdown",
     "metadata": {},
     "source": [
      "## Web based data visualization driven from Python\n",
      "- Data Scientists/Quants/Geologists don't always know, or want to know javascript\n",
      "- Python is REALLY good at data analysis, especially for dealing with larger datasets, and hooking disparate sources together\n",
      "- The web is a natural target these days, especially since there is a trend towards sharing visualizations and analysis, and reproducible science"
     ]
    },
    {
     "cell_type": "markdown",
     "metadata": {},
     "source": [
      "## Language based toolkit, rather than GUI based.  \n",
      "\n",
      "- At continuum, we believe that layers are REALLY REALLY important\n",
      "- Very difficult to design a UI that handles all the corner cases that data scientists run in to.\n",
      "- Either that, or you end up with a super complex GUI that on one knows how to use\n",
      "- Not saying it's impossible, but it's challenging\n",
      "- Build a scriptable layer first, and then a GUI second (if you want)\n",
      "- High level expressions for data-binding, statistical transforms, interactivity, and linked data"
     ]
    },
    {
     "cell_type": "markdown",
     "metadata": {},
     "source": [
      "## Interactivity and streaming as a fundamental goal\n",
      "\n",
      "- This is contrary to Matplotlib, and ggplot2\n",
      "- Newer technologies like D3 already embrace this\n",
      "- With higher dimensional datasets, interactivity is critical to understanding what is going on in your data"
     ]
    },
    {
     "cell_type": "markdown",
     "metadata": {},
     "source": [
      "## Bokeh Object Model\n",
      "\n",
      "- Python/Javascript objects which serialize to JSON. \n",
      "- Glyph based architecture"
     ]
    },
    {
     "cell_type": "markdown",
     "metadata": {},
     "source": [
      "## Big Data\n",
      "\n",
      "- You can't send Big Data to the client!\n",
      "- How do you view data in the browser without sending it to the client\n",
      "- How do you visualize big data at all?  What does a scatter plot of 1B points look like?\n",
      "- Answer: Abstract Rendering"
     ]
    },
    {
     "cell_type": "markdown",
     "metadata": {},
     "source": [
      "## Example 1 - Line Plotting - 1 mins\n",
      "\n",
      "- Just a simple example to demonstrate how one could use Bokeh\n",
      "- See line_server notebook"
     ]
    },
    {
     "cell_type": "markdown",
     "metadata": {},
     "source": [
      "## Layers - 3 mins\n",
      "\n",
      "- lower level, by composing bokeh plotting objects\n",
      "- plotting.py high level interface, functions which hook up the objects for you.\n",
      "- ggplot2 like interface coming soon.  (Based off of seaborn)\n",
      "<img src=\"/files/bokeh_objects.png\"/>"
     ]
    },
    {
     "cell_type": "markdown",
     "metadata": {},
     "source": [
      "## Example 2 - Interactivity - 4.5 mins\n",
      "\n",
      "- Simple example to demonstrate how interactivity works by default\n",
      "- see linked_brushing notebook\n",
      "- How does this work?\n",
      "    - Glyphs know how to render datasource selections.  2 Plots that display the same data source will always be linked\n",
      "    - There is a Python/Javascript object bridge, This means that we can retrieve the indexes of the selected points and subselect them for further analysis.\n",
      "    - This also means that if 2 clients are viewing the same plot, they will see selections and other changes in realtime"
     ]
    },
    {
     "cell_type": "markdown",
     "metadata": {},
     "source": [
      "## Example 3 - 1.5 mins\n",
      "- linked panning\n",
      "- see linked_panning notebook\n",
      "- How does this work?\n",
      "    - In the linked panning example, plot objects share the same data range objects.\n",
      "    - One major design goal was to create the right objects that represent plotting, such that designing interactions is mostly about hooking up objects properly, rather than having to write  bunch of custom callbacks\n",
      "    - Writing custom callbacks, is the d3 approach to interactivity"
     ]
    },
    {
     "cell_type": "markdown",
     "metadata": {},
     "source": [
      "### Example 4 - Streaming Data - 2 mins\n",
      "\n",
      "- Once you have a dynamic object model, animation is just a matter of updating the data source\n",
      "- This is a bit of an a-typical example, since most streaming plots are timeseries plots, but this sort of shows how flesible this concept goes"
     ]
    },
    {
     "cell_type": "markdown",
     "metadata": {},
     "source": [
      "### Glyph Based Architecture - 2.5 mins\n",
      "\n",
      "Bokeh presents primitives that can be used to build up novel plots - protovis, d3, are other examples of this type of work.\n",
      "\n",
      "- <a href=\"http://bokeh.pydata.org/plot_gallery/candlestick.html\" target=\"_blank\"> candlesticks </a> are merely composed of rect and line segment glyphs\n",
      "- <a href=\"http://bokeh.pydata.org/plot_gallery/burtin_example.html\" target=\"_blank\"> Really complex examples</a> are just composed of annular wedges, and text glyphs"
     ]
    },
    {
     "cell_type": "markdown",
     "metadata": {},
     "source": [
      "## Abstract Rendering - 3 mins\n",
      "\n",
      "<img src=\"/files/ar_bins.png\"/>\n",
      "<img src=\"/files/ar_transform.png\"/>\n",
      "<img src=\"/files/ar_scatter_example.png\"/>\n",
      "<img src=\"/files/ar_map.png\"/>"
     ]
    },
    {
     "cell_type": "markdown",
     "metadata": {},
     "source": [
      "### Technologies Used - 3 mins\n",
      "\n",
      "- Javascript\n",
      "    - Grunt (for builds)\n",
      "    - require.js\n",
      "    - coffeescript (especially source maps)\n",
      "    - backbone.js\n",
      "- Python\n",
      "    - flask\n",
      "    - gevent websocket\n",
      "    - IPython notebook\n",
      "- Data Processing (python)\n",
      "    - Numba \n",
      "    - pandas\n",
      "    - blaze"
     ]
    },
    {
     "cell_type": "markdown",
     "metadata": {},
     "source": [
      "## Continuum Analytics\n",
      "\n",
      "- Python for Data Analysis\n",
      "- Bringing domain experts closer to data.  Removing technology cruft from data anlaysis workflows\n",
      "- Open Source Products\n",
      "    - Blaze\n",
      "    - Numba\n",
      "    - Bokeh\n",
      "    - Anaconda/conda\n",
      "- Paid Products\n",
      "    - Anaconda\n",
      "        1. NumbaPro\n",
      "        2. IO Pro\n",
      "        3. Anaconda Server\n",
      "    - Wakari.io\n",
      "    - Wakari enterprise\n",
      "    - Consulting\n",
      "    - Training\n",
      "    "
     ]
    },
    {
     "cell_type": "code",
     "collapsed": false,
     "input": [],
     "language": "python",
     "metadata": {},
     "outputs": []
    }
   ],
   "metadata": {}
  }
 ]
}