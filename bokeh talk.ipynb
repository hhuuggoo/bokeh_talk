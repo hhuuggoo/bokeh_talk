{
 "metadata": {
  "name": ""
 },
 "nbformat": 3,
 "nbformat_minor": 0,
 "worksheets": [
  {
   "cells": [
    {
     "cell_type": "markdown",
     "metadata": {},
     "source": [
      "## Bokeh\n",
      "\n",
      "What is Bokeh?\n",
      "\n",
      "- Plotting and data vizualization library that has the web as a first class target, but intended to be driven from Python\n",
      "- Language based toolkit, rather than GUI based.  \n",
      "    - High level expressions for data-binding, statistical transforms, interactivity, and linked data\n",
      "- Interactivity and streamining as a fundamental goal\n",
      "    - This is contrary to Matplotlib, and ggplot2\n",
      "- Support for large datasets via Abstract Rendering (intelligent downsampling and transformations of visuals)\n",
      "- Javascript runtime which is meant to be driven from Python (or any other high level language)\n",
      "- Glyph based architecture, so that novel plots can be easily developed"
     ]
    },
    {
     "cell_type": "markdown",
     "metadata": {},
     "source": [
      "## Example 1 - Line Plotting\n",
      "\n",
      "- Just a simple example to demonstrate how one could use Bokeh\n",
      "- See line_server notebook"
     ]
    },
    {
     "cell_type": "markdown",
     "metadata": {},
     "source": [
      "## Example 2 - Interactivity\n",
      "\n",
      "- Simple example to demonstrate how interactivity works by default\n",
      "- see linked_brushing notebook\n",
      "- How does this work?\n",
      "    - Glyphs know how to render datasource selections.  2 Plots that display the same data source will always be linked\n",
      "    - There is a Python/Javascript object bridge, This means that we can retrieve the indexes of the selected points and subselect them for further analysis.\n",
      "    - This also means that if 2 clients are viewing the same plot, they will see selections and other changes in realtime"
     ]
    },
    {
     "cell_type": "markdown",
     "metadata": {},
     "source": [
      "## Example 3\n",
      "- linked panning\n",
      "- see linked_panning notebook\n",
      "- How does this work?\n",
      "    - In the linked panning example, plot objects share the same data range objects.\n",
      "    - One major design goal was to create the right objects that represent plotting, such that designing interactions is mostly about hooking up objects properly, rather than having to write  bunch of custom callbacks\n",
      "    - Writing custom callbacks, is the d3 approach to interactivity"
     ]
    },
    {
     "cell_type": "markdown",
     "metadata": {},
     "source": [
      "### Glyph Based Architecture\n",
      "\n",
      "Presents primitives that can be used to build up novel plots - protovis, d3, are other examples of this type of work.\n",
      "\n",
      "- <a href=\"http://bokeh.pydata.org/plot_gallery/candlestick.html\" target=\"_blank\"> candlesticks </a> are merely composed of rect and line segment glyphs\n",
      "- <a href=\"http://bokeh.pydata.org/plot_gallery/burtin_example.html\" target=\"_blank\"> Really complex examples</a> are just composed of annular wedges, and text glyphs"
     ]
    },
    {
     "cell_type": "markdown",
     "metadata": {},
     "source": [
      "### Abstract Rendering\n",
      "\n",
      "<img src=\"/files/ar_bins.png\">\n"
     ]
    },
    {
     "cell_type": "code",
     "collapsed": false,
     "input": [],
     "language": "python",
     "metadata": {},
     "outputs": []
    }
   ],
   "metadata": {}
  }
 ]
}